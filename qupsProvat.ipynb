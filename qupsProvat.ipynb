{
 "cells": [
  {
   "cell_type": "code",
   "execution_count": 22,
   "metadata": {},
   "outputs": [],
   "source": [
    "#Import essential libreries\n",
    "import openpyxl\n",
    "import calendar\n",
    "from datetime import date\n",
    "import time\n",
    "\n",
    "from selenium import webdriver\n",
    "from selenium.webdriver.common.by import By"
   ]
  },
  {
   "cell_type": "code",
   "execution_count": 24,
   "metadata": {},
   "outputs": [],
   "source": [
    "#to return the day of current date\n",
    "d = date.today()\n",
    "day = calendar.day_name[d.weekday()]\n",
    "\n",
    "src = \"F:\\provat_qups1.xlsx\" # define the file location\n",
    "wb = openpyxl.load_workbook(src) # load the file into workbook\n",
    "sheet = wb[day] #The sheet name is defined to match the current day\n",
    "\n",
    "firstRow = 2\n",
    "LastRow = sheet.max_row\n",
    "\n",
    "driver = webdriver.Chrome() #Load webdriver\n",
    "driver.maximize_window()\n",
    "\n",
    "# to locate the data from desired row and col\n",
    "for row in sheet.iter_rows(firstRow, LastRow, min_col=2, max_col=2):  \n",
    "    cell_value = row[0].value \n",
    "\n",
    "    #Check if the cell value is not empty\n",
    "    if cell_value is not None:\n",
    "        driver.get(\"https://www.google.com/\") #define url \n",
    "        search = driver.find_element(By.NAME, \"q\") #find search bar by name \n",
    "        search.send_keys(cell_value) #send the search value to the search bar\n",
    "        time.sleep(2) # 2 seconds sleep the time for webdriver \n",
    "\n",
    "        ss = driver.find_elements(By.CLASS_NAME, \"erkvQe\") #find the class of search suggestions\n",
    "        keywords = []\n",
    "        #store the search suggestion to the defined list object\n",
    "        for lss in ss:\n",
    "            keywords.append(lss.text)\n",
    "        \n",
    "        if keywords:\n",
    "            split_data = keywords[0].split('\\n') #Split the data using '\\n' as the delimiter\n",
    "\n",
    "            smallest_option = min(split_data, key=len) # Find the smallest options based on the length\n",
    "            cell = sheet.cell(row=firstRow, column=3) #locate the cell \n",
    "            cell.value = smallest_option # to write the value\n",
    "\n",
    "            largest_option = max(split_data, key=len) # Find the largest options based on the length\n",
    "            cell = sheet.cell(row=firstRow, column=4) #locate the desire cell \n",
    "            cell.value = largest_option # to write the value \n",
    "\n",
    "    firstRow += 1  # Move to the next row even if cell_value is None\n",
    "\n",
    "driver.close() # close the driver\n",
    "\n",
    "wb.save(src)  # Save the workbook with the updated data"
   ]
  }
 ],
 "metadata": {
  "kernelspec": {
   "display_name": "Python 3",
   "language": "python",
   "name": "python3"
  },
  "language_info": {
   "codemirror_mode": {
    "name": "ipython",
    "version": 3
   },
   "file_extension": ".py",
   "mimetype": "text/x-python",
   "name": "python",
   "nbconvert_exporter": "python",
   "pygments_lexer": "ipython3",
   "version": "3.11.5"
  },
  "orig_nbformat": 4
 },
 "nbformat": 4,
 "nbformat_minor": 2
}
